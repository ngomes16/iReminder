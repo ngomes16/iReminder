{
 "cells": [
  {
   "cell_type": "code",
   "execution_count": 7,
   "metadata": {},
   "outputs": [],
   "source": [
    "# a good http lib\n",
    "import httpx\n",
    "import json\n",
    "import asyncio"
   ]
  },
  {
   "cell_type": "code",
   "execution_count": 8,
   "metadata": {},
   "outputs": [],
   "source": [
    "# Needed param\n",
    "# IP_ADDR = '172.16.100.169'\n",
    "# url = f\"http://{IP_ADDR}\"\n",
    "IP_ADDR = '127.0.0.1:5000'\n",
    "url = f\"http://{IP_ADDR}\""
   ]
  },
  {
   "cell_type": "code",
   "execution_count": 9,
   "metadata": {},
   "outputs": [],
   "source": [
    "# sync HTTP\n",
    "def syncPOST(rel_Path, data): \n",
    "    try:\n",
    "        response = httpx.post(url+rel_Path, data=data)\n",
    "        if response.status_code == 200:\n",
    "            print(f\"send to {url+rel_Path}\")\n",
    "            print(response.text)\n",
    "        else:\n",
    "            print(f\"failed to send to {IP_ADDR}, status: {response.status_code}\")\n",
    "    except httpx.RequestError as e:\n",
    "        print(url+rel_Path)\n",
    "        print(f\"Request error: {e}\")"
   ]
  },
  {
   "cell_type": "code",
   "execution_count": 10,
   "metadata": {},
   "outputs": [],
   "source": [
    "# ascync HTTP\n",
    "async def asyncPOST(data):\n",
    "    async with httpx.AsyncClient() as client:\n",
    "        try:\n",
    "            response = await client.post(url, data=data)\n",
    "            print(f\"Status: {response.status_code}\")\n",
    "            print(\"Response content:\")\n",
    "            print(response.text)\n",
    "        except httpx.RequestError as e:\n",
    "            print(f\"Request error: {e}\")"
   ]
  },
  {
   "cell_type": "code",
   "execution_count": 12,
   "metadata": {},
   "outputs": [
    {
     "name": "stdout",
     "output_type": "stream",
     "text": [
      "send to http://127.0.0.1:5000/canvas/14559~6dyG1stzr24vL9EQHES4AvnjZVV9F4UuCsFiVXKQHfz6SwLlh8i6ZipQ1od5YpIO\n",
      "[{\"AssignmentName\":\"Week 15 Online Discussion - Due Before 11:59 pm Sunday, December 3\",\"CourseName\":\"Fall 2023-ADV 483-Audience Analysis-Sections A, B\",\"DueDate\":\"12/04/2023\",\"DueTime\":\"05:59:00\",\"Platform\":\"canvas\",\"TimeZone\":\"CDT\"},{\"AssignmentName\":\"Week 14 Online Discussion - Due Before 11:59 pm Sunday, November 26\",\"CourseName\":\"Fall 2023-ADV 483-Audience Analysis-Sections A, B\",\"DueDate\":\"11/27/2023\",\"DueTime\":\"05:59:00\",\"Platform\":\"canvas\",\"TimeZone\":\"CDT\"},{\"AssignmentName\":\"Week 13 Online Discussion - Due Before 11:59 pm Sunday, November 12\",\"CourseName\":\"Fall 2023-ADV 483-Audience Analysis-Sections A, B\",\"DueDate\":\"11/13/2023\",\"DueTime\":\"05:59:00\",\"Platform\":\"canvas\",\"TimeZone\":\"CDT\"},{\"AssignmentName\":\"Week 12 Online Discussion - Due Before 11:59 pm Sunday, November 5\",\"CourseName\":\"Fall 2023-ADV 483-Audience Analysis-Sections A, B\",\"DueDate\":\"11/06/2023\",\"DueTime\":\"05:59:00\",\"Platform\":\"canvas\",\"TimeZone\":\"CDT\"},{\"AssignmentName\":\"Week 11 Online Discussion - Due Before 11:59 pm Sunday, October 29\",\"CourseName\":\"Fall 2023-ADV 483-Audience Analysis-Sections A, B\",\"DueDate\":\"10/30/2023\",\"DueTime\":\"04:59:00\",\"Platform\":\"canvas\",\"TimeZone\":\"CDT\"},{\"AssignmentName\":\"Week 10 Online Discussion - Due Before 11:59 pm Sunday, October 22\",\"CourseName\":\"Fall 2023-ADV 483-Audience Analysis-Sections A, B\",\"DueDate\":\"10/23/2023\",\"DueTime\":\"04:59:00\",\"Platform\":\"canvas\",\"TimeZone\":\"CDT\"},{\"AssignmentName\":\"Week 9 Online Discussion - Due Before 11:59 pm Sunday, October 15\",\"CourseName\":\"Fall 2023-ADV 483-Audience Analysis-Sections A, B\",\"DueDate\":\"10/16/2023\",\"DueTime\":\"04:59:00\",\"Platform\":\"canvas\",\"TimeZone\":\"CDT\"},{\"AssignmentName\":\"Week 8 Online Discussion - Due Before 11:59 pm Sunday, October 8\",\"CourseName\":\"Fall 2023-ADV 483-Audience Analysis-Sections A, B\",\"DueDate\":\"10/09/2023\",\"DueTime\":\"04:59:00\",\"Platform\":\"canvas\",\"TimeZone\":\"CDT\"},{\"AssignmentName\":\"Week 7 Online Discussion - Due Before 11:59 pm Sunday, October 1\",\"CourseName\":\"Fall 2023-ADV 483-Audience Analysis-Sections A, B\",\"DueDate\":\"10/02/2023\",\"DueTime\":\"04:59:00\",\"Platform\":\"canvas\",\"TimeZone\":\"CDT\"},{\"AssignmentName\":\"Week 6 Online Discussion - Due Before 11:59 pm Sunday, September 24\",\"CourseName\":\"Fall 2023-ADV 483-Audience Analysis-Sections A, B\",\"DueDate\":\"09/25/2023\",\"DueTime\":\"04:59:00\",\"Platform\":\"canvas\",\"TimeZone\":\"CDT\"}]\n",
      "\n"
     ]
    }
   ],
   "source": [
    "# data = {\n",
    "#     'speedLeft': 0,\n",
    "#     'speedRight': 100\n",
    "# }\n",
    "\n",
    "data = '{\"email\": \"blah\", \"password\": \"12345\"}'\n",
    "\n",
    "\n",
    "token = \"14559~6dyG1stzr24vL9EQHES4AvnjZVV9F4UuCsFiVXKQHfz6SwLlh8i6ZipQ1od5YpIO\"\n",
    "\n",
    "# syncPOST('/set_speed',data)\n",
    "# syncPOST('/login', json.loads(data))\n",
    "syncPOST('/canvas/'+token, \"\")\n",
    "\n",
    "# asyncio.run(asyncPOST(data))"
   ]
  }
 ],
 "metadata": {
  "kernelspec": {
   "display_name": "ece445",
   "language": "python",
   "name": "python3"
  },
  "language_info": {
   "codemirror_mode": {
    "name": "ipython",
    "version": 3
   },
   "file_extension": ".py",
   "mimetype": "text/x-python",
   "name": "python",
   "nbconvert_exporter": "python",
   "pygments_lexer": "ipython3",
   "version": "3.12.3"
  }
 },
 "nbformat": 4,
 "nbformat_minor": 2
}
